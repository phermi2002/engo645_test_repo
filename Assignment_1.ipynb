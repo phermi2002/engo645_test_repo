{
  "cells": [
    {
      "cell_type": "markdown",
      "metadata": {
        "id": "view-in-github",
        "colab_type": "text"
      },
      "source": [
        "<a href=\"https://colab.research.google.com/github/phermi2002/engo645_test_repo/blob/main/Assignment_1.ipynb\" target=\"_parent\"><img src=\"https://colab.research.google.com/assets/colab-badge.svg\" alt=\"Open In Colab\"/></a>"
      ]
    },
    {
      "cell_type": "markdown",
      "metadata": {
        "id": "sFHzxoj0qR7L"
      },
      "source": [
        "# Assignment 1\n",
        "\n",
        "\n",
        "Assignment 1 includes 4 parts. For each part you need to modify the notebook by adding your own programming solutions or written text.\n",
        "\n",
        "Remember to save and commit your changes locally, and push your changes to GitHub after each major change! Regular commits will help you to keep track of your changes (and revert them if needed). Pushing your work to GitHub will ensure that you don't lose any work in case your computer crashes (can happen!).\n",
        "\n",
        "## Notes about the exercise notebook\n",
        "\n",
        "1. The Python code cells where you should make changes contain text that reads:\n",
        "\n",
        "    ```Python\n",
        "\n",
        "    # YOUR CODE HERE\n",
        "    raise NotImplementedError()\n",
        "    \n",
        "    ```\n",
        "    <br/>**You should delete that text and replace it with your solution (code)**.\n",
        "\n",
        "   \n",
        "   <br><br/>\n",
        "2. The Markdown cells where you should make changes contain text that reads:\n",
        "\n",
        "    ```text\n",
        "    \n",
        "    YOUR ANSWER HERE\n",
        "    ```\n",
        "    <br/>**You should delete that text and replace it with your answer**.\n",
        "<br><br/>\n",
        "\n",
        "3. Some of the cells in this Jupyter Notebook are `# test-cell`, which means that you must not edit them.\n",
        "4. **Do not make any changes to the .csv file provided in the data folder.**\n",
        "\n"
      ]
    },
    {
      "cell_type": "markdown",
      "metadata": {
        "id": "yPGkCE12qR7O"
      },
      "source": [
        "# Problem Definition\n"
      ]
    },
    {
      "cell_type": "markdown",
      "metadata": {
        "id": "IdaTmcZNqR7O"
      },
      "source": [
        "\n",
        "\n",
        "In this assignment, we'll dive into a dataset containing 100,000 orders made in Brazil from 2016 to 2018. Our goal is to use the features of python `pandas` and `matplotlib`, to explore, calculate, and visualize interesting things about this e-commerce data.\n",
        "\n",
        "\n",
        "### Description of columns\n",
        "\n",
        "| Column  | Description  |\n",
        "| --- | --- |\n",
        "| order_id | unique identifier of the order. |\n",
        "| order_status | Reference to the order status (delivered, shipped, etc). |\n",
        "| order_purchase_timestamp | Shows the purchase timestamp. |\n",
        "| order_delivered_carrier_date | Shows the order posting timestamp. When it was handled to the logistic partner. |\n",
        "| order_delivered_customer_date | Shows the actual order delivery date to the customer. |\n",
        "| order_estimated_delivery_date | Shows the estimated delivery date that was informed to customer at the purchase moment. |\n",
        "|order_item_id | sequential number identifying number of items included in the same order. |\n",
        "| --- | --- |\n",
        "| customer_unique_id | unique identifier of a customer. |\n",
        "| customer_zip_code_prefix | first five digits of customer zip code |\n",
        "| customer_city | customer city name |\n",
        "| customer_state | customer state |\n",
        "| customer_latitude | customer location information|\n",
        "| customer_longitude | customer location information|\n",
        "| --- | --- |\n",
        "| review_score | Note ranging from 1 to 5 given by the customer on a satisfaction survey. |\n",
        "| review_comment_message | Comment message from the review left by the customer, in Portuguese. |\n",
        "| --- | --- |\n",
        "| price | item price |\n",
        "| freight_value | item freight value item (if an order has more than one item the freight value is splitted between items) |\n",
        "| --- | --- |\n",
        "| product_category_name | root category type of product, in English. |\n",
        "| --- | --- |\n",
        "| seller_zip_code_prefix | first 5 digits of seller zip code |\n",
        "| seller_city | seller city name |\n"
      ]
    },
    {
      "cell_type": "markdown",
      "metadata": {
        "id": "eaKtokFkqR7P"
      },
      "source": [
        "## Part 1 (Loading data)\n",
        "\n",
        "The first step for this problem is to read the data file `e-commerce_data.csv` into a variable `data` using pandas.\n",
        "\n",
        "Remember you can use .info() to see more information about your dataframe columns and datatypes."
      ]
    },
    {
      "cell_type": "code",
      "execution_count": 2,
      "metadata": {
        "colab": {
          "base_uri": "https://localhost:8080/"
        },
        "id": "-YVD7cabqR7P",
        "outputId": "3a2acd84-2ede-4935-bf45-299499433c91"
      },
      "outputs": [
        {
          "output_type": "stream",
          "name": "stdout",
          "text": [
            "<class 'pandas.core.frame.DataFrame'>\n",
            "RangeIndex: 114092 entries, 0 to 114091\n",
            "Data columns (total 20 columns):\n",
            " #   Column                         Non-Null Count   Dtype  \n",
            "---  ------                         --------------   -----  \n",
            " 0   order_id                       114092 non-null  object \n",
            " 1   order_status                   114092 non-null  object \n",
            " 2   order_purchase_timestamp       114092 non-null  object \n",
            " 3   order_delivered_carrier_date   112112 non-null  object \n",
            " 4   order_delivered_customer_date  110839 non-null  object \n",
            " 5   order_estimated_delivery_date  114092 non-null  object \n",
            " 6   customer_unique_id             114092 non-null  object \n",
            " 7   customer_zip_code_prefix       114092 non-null  int64  \n",
            " 8   order_item_id                  113314 non-null  float64\n",
            " 9   product_id                     113314 non-null  object \n",
            " 10  price                          113314 non-null  float64\n",
            " 11  freight_value                  113314 non-null  float64\n",
            " 12  seller_zip_code_prefix         113314 non-null  float64\n",
            " 13  seller_city                    113314 non-null  object \n",
            " 14  product_category_name_english  111678 non-null  object \n",
            " 15  review_score                   113131 non-null  float64\n",
            " 16  customer_latitude              113781 non-null  float64\n",
            " 17  customer_longitude             113781 non-null  float64\n",
            " 18  customer_city                  113781 non-null  object \n",
            " 19  customer_state                 113781 non-null  object \n",
            "dtypes: float64(7), int64(1), object(12)\n",
            "memory usage: 17.4+ MB\n"
          ]
        }
      ],
      "source": [
        "# import the necessary packages\n",
        "import pandas as pd\n",
        "\n",
        "# load the data\n",
        "link = '/content/sample_data/e-commerce_data.csv'\n",
        "data = pd.read_csv(link, sep=',')\n",
        "\n",
        "\n",
        "\n",
        "\n",
        "# YOUR CODE HERE\n",
        "data.info()"
      ]
    },
    {
      "cell_type": "markdown",
      "metadata": {
        "id": "LFyrvUzfqR7Q"
      },
      "source": [
        "Check that the first 5 rows of the DataFrame look ok: (show the first 5 rows)"
      ]
    },
    {
      "cell_type": "code",
      "execution_count": 10,
      "metadata": {
        "colab": {
          "base_uri": "https://localhost:8080/",
          "height": 731
        },
        "id": "Z5AqQi0qqR7R",
        "outputId": "2f72d5b4-ced3-4fe2-97c5-55978990121a"
      },
      "outputs": [
        {
          "output_type": "display_data",
          "data": {
            "text/plain": [
              "                            order_id order_status order_purchase_timestamp  \\\n",
              "0   e481f51cbdc54678b7cc49136f2d6af7    delivered      2017-10-02 10:56:33   \n",
              "1   53cdb2fc8bc7dce0b6741e2150273451    delivered      2018-07-24 20:41:37   \n",
              "2   47770eb9100c2d0c44946d9cf07ec65d    delivered      2018-08-08 08:38:49   \n",
              "3   949d5b44dbf5de918fe9c16f97b45f8a    delivered      2017-11-18 19:28:06   \n",
              "4   ad21c59c0840e6cb83a9ceb5573f8159    delivered      2018-02-13 21:18:39   \n",
              "5   a4591c265e18cb1dcee52889e2d8acc3    delivered      2017-07-09 21:57:05   \n",
              "7   6514b8ad8028c9f2cc2374ded245783f    delivered      2017-05-16 13:10:30   \n",
              "8   76c6e866289321a7c93b82b54852dc33    delivered      2017-01-23 18:29:09   \n",
              "9   e69bfb5eb88e0ed6a785585b27e16dbf    delivered      2017-07-29 11:55:02   \n",
              "10  e6ce16cb79ec1d90b1da9085a6118aeb    delivered      2017-05-16 19:41:10   \n",
              "11  e6ce16cb79ec1d90b1da9085a6118aeb    delivered      2017-05-16 19:41:10   \n",
              "12  34513ce0c4fab462a55830c0989c7edb    delivered      2017-07-13 19:58:11   \n",
              "13  82566a660a982b15fb86e904c8d32918    delivered      2018-06-07 10:06:19   \n",
              "14  5ff96c15d0b717ac6ad1f3d77225a350    delivered      2018-07-25 17:44:10   \n",
              "15  432aaf21d85167c2c86ec9448c4e42cc    delivered      2018-03-01 14:14:28   \n",
              "16  dcb36b511fcac050b97cd5c05de84dc3    delivered      2018-06-07 19:03:12   \n",
              "18  116f0b09343b49556bbad5f35bee0cdf    delivered      2017-12-26 23:41:31   \n",
              "19  85ce859fd6dc634de8d2f1e290444043    delivered      2017-11-21 00:03:41   \n",
              "20  83018ec114eee8641c97e08f7b4e926f    delivered      2017-10-26 15:54:26   \n",
              "21  203096f03d82e0dffbc41ebc2e2bcfb7    delivered      2017-09-18 14:31:30   \n",
              "\n",
              "   order_delivered_carrier_date order_delivered_customer_date  \\\n",
              "0           2017-10-04 19:55:00           2017-10-10 21:25:13   \n",
              "1           2018-07-26 14:31:00           2018-08-07 15:27:45   \n",
              "2           2018-08-08 13:50:00           2018-08-17 18:06:29   \n",
              "3           2017-11-22 13:39:59           2017-12-02 00:28:42   \n",
              "4           2018-02-14 19:46:34           2018-02-16 18:17:02   \n",
              "5           2017-07-11 14:58:04           2017-07-26 10:57:55   \n",
              "7           2017-05-22 10:07:46           2017-05-26 12:55:51   \n",
              "8           2017-01-26 14:16:31           2017-02-02 14:08:10   \n",
              "9           2017-08-10 19:45:24           2017-08-16 17:14:30   \n",
              "10          2017-05-18 11:40:40           2017-05-29 11:18:31   \n",
              "11          2017-05-18 11:40:40           2017-05-29 11:18:31   \n",
              "12          2017-07-14 18:43:29           2017-07-19 14:04:48   \n",
              "13          2018-06-11 13:29:00           2018-06-19 12:05:52   \n",
              "14          2018-07-26 13:16:00           2018-07-30 15:52:25   \n",
              "15          2018-03-02 21:09:20           2018-03-12 23:36:26   \n",
              "16          2018-06-11 14:54:00           2018-06-21 15:34:32   \n",
              "18          2017-12-28 18:33:05           2018-01-08 22:36:36   \n",
              "19          2017-11-23 21:32:26           2017-11-27 18:28:00   \n",
              "20          2017-10-26 21:46:53           2017-11-08 22:22:00   \n",
              "21          2017-10-06 17:50:03           2017-10-09 22:23:46   \n",
              "\n",
              "   order_estimated_delivery_date                customer_unique_id  \\\n",
              "0            2017-10-18 00:00:00  7c396fd4830fd04220f754e42b4e5bff   \n",
              "1            2018-08-13 00:00:00  af07308b275d755c9edb36a90c618231   \n",
              "2            2018-09-04 00:00:00  3a653a41f6f9fc3d2a113cf8398680e8   \n",
              "3            2017-12-15 00:00:00  7c142cf63193a1473d2e66489a9ae977   \n",
              "4            2018-02-26 00:00:00  72632f0f9dd73dfee390c9b22eb56dd6   \n",
              "5            2017-08-01 00:00:00  80bb27c7c16e8f973207a5086ab329e2   \n",
              "7            2017-06-07 00:00:00  932afa1e708222e5821dac9cd5db4cae   \n",
              "8            2017-03-06 00:00:00  39382392765b6dc74812866ee5ee92a7   \n",
              "9            2017-08-23 00:00:00  299905e3934e9e181bfb2e164dd4b4f8   \n",
              "10           2017-06-07 00:00:00  f2a85dec752b8517b5e58a06ff3cd937   \n",
              "11           2017-06-07 00:00:00  f2a85dec752b8517b5e58a06ff3cd937   \n",
              "12           2017-08-08 00:00:00  782987b81c92239d922aa49d6bd4200b   \n",
              "13           2018-07-18 00:00:00  e97109680b052ee858d93a539597bba7   \n",
              "14           2018-08-08 00:00:00  e2dfa3127fedbbca9707b36304996dab   \n",
              "15           2018-03-21 00:00:00  04cf8185c71090d28baa4407b2e6d600   \n",
              "16           2018-07-04 00:00:00  ccafc1c3f270410521c3c6f3b249870f   \n",
              "18           2018-01-29 00:00:00  6087cfc70fd833cf2db637a5e6e9d76b   \n",
              "19           2017-12-11 00:00:00  d0ff1a7468fcc46b8fc658ab35d2a12c   \n",
              "20           2017-11-23 00:00:00  634f09f6075fe9032e6c19609ffe995a   \n",
              "21           2017-09-28 00:00:00  d699688533772c15a061e8ce81cb56df   \n",
              "\n",
              "    customer_zip_code_prefix  order_item_id                        product_id  \\\n",
              "0                       3149            1.0  87285b34884572647811a353c7ac498a   \n",
              "1                      47813            1.0  595fac2a385ac33a80bd5114aec74eb8   \n",
              "2                      75265            1.0  aa4383b373c6aca5d8797843e5594415   \n",
              "3                      59296            1.0  d0b61bfb1de832b15ba9d266ca96e5b0   \n",
              "4                       9195            1.0  65266b2da20d04dbe00c5c2d3bb7859e   \n",
              "5                      86320            1.0  060cb19345d90064d1015407193c233d   \n",
              "7                      26525            1.0  4520766ec412348b8d4caa5e8a18c464   \n",
              "8                      99655            1.0  ac1789e492dcd698c5c10b97a671243a   \n",
              "9                      18075            1.0  9a78fb9862b10749a117f7fc3c31f051   \n",
              "10                     20780            1.0  08574b074924071f4e201e151b152b4e   \n",
              "11                     20780            2.0  08574b074924071f4e201e151b152b4e   \n",
              "12                      4278            1.0  f7e0fa615b386bc9a8b9eb52bc1fff76   \n",
              "13                     35400            1.0  72a97c271b2e429974398f46b93ae530   \n",
              "14                      4812            1.0  10adb53d8faa890ca7c2f0cbcb68d777   \n",
              "15                      5271            1.0  72d3bf1d3a790f8874096fcf860e3eff   \n",
              "16                     74820            1.0  009c09f439988bc06a93d6b8186dce73   \n",
              "18                     88780            1.0  a47295965bd091207681b541b26e40a5   \n",
              "19                     13186            1.0  cce679660c66e6fbd5c8091dfd29e9cd   \n",
              "20                     44024            1.0  c35498fbb4358837ae16850f50c3fd22   \n",
              "21                      4001            1.0  5ac9d9e379c606e36a8094a6046f75dc   \n",
              "\n",
              "     price  freight_value product_category_name_english  review_score  \\\n",
              "0    29.99           8.72                    housewares           4.0   \n",
              "1   118.70          22.76                     perfumery           4.0   \n",
              "2   159.90          19.22                          auto           5.0   \n",
              "3    45.00          27.20                      pet_shop           5.0   \n",
              "4    19.90           8.72                    stationery           5.0   \n",
              "5   147.90          27.36                          auto           4.0   \n",
              "7    59.99          15.17                          auto           5.0   \n",
              "8    19.90          16.05               furniture_decor           1.0   \n",
              "9   149.99          19.77              office_furniture           5.0   \n",
              "10   99.00          30.53                  garden_tools           1.0   \n",
              "11   99.00          30.53                  garden_tools           1.0   \n",
              "12   98.00          16.13         computers_accessories           4.0   \n",
              "13   31.90          18.23                     perfumery           5.0   \n",
              "14   19.90          12.80                bed_bath_table           5.0   \n",
              "15   38.25          16.11                          toys           4.0   \n",
              "16  132.40          14.05                     perfumery           5.0   \n",
              "18   27.99          15.10                     telephony           5.0   \n",
              "19   17.90          11.85                bed_bath_table           5.0   \n",
              "20   76.00          16.97                     telephony           4.0   \n",
              "21  109.90           8.96                 health_beauty           2.0   \n",
              "\n",
              "    customer_latitude  customer_longitude            customer_city  \\\n",
              "0          -23.574809          -46.587471                sao paulo   \n",
              "1          -12.169860          -44.988369                barreiras   \n",
              "2          -16.746337          -48.514624               vianopolis   \n",
              "3           -5.767733          -35.275467  sao goncalo do amarante   \n",
              "4          -23.675037          -46.524784              santo andre   \n",
              "5          -23.548581          -50.550660             congonhinhas   \n",
              "7          -22.800936          -43.424861                nilopolis   \n",
              "8          -27.420763          -52.674188             faxinalzinho   \n",
              "9          -23.478754          -47.467931                 sorocaba   \n",
              "10         -22.886501          -43.268834           rio de janeiro   \n",
              "11         -22.886501          -43.268834           rio de janeiro   \n",
              "12         -23.602105          -46.608607                sao paulo   \n",
              "13         -20.385237          -43.505513               ouro preto   \n",
              "14         -23.711919          -46.687252                sao paulo   \n",
              "15         -23.428081          -46.793659                sao paulo   \n",
              "16         -16.712157          -49.248251                  goiania   \n",
              "18         -28.190231          -48.664604                 imbituba   \n",
              "19         -22.887515          -47.195739              hortolandia   \n",
              "20         -12.244947          -38.980318         feira de santana   \n",
              "21         -23.572301          -46.652000                sao paulo   \n",
              "\n",
              "   customer_state  \n",
              "0              SP  \n",
              "1              BA  \n",
              "2              GO  \n",
              "3              RN  \n",
              "4              SP  \n",
              "5              PR  \n",
              "7              RJ  \n",
              "8              RS  \n",
              "9              SP  \n",
              "10             RJ  \n",
              "11             RJ  \n",
              "12             SP  \n",
              "13             MG  \n",
              "14             SP  \n",
              "15             SP  \n",
              "16             GO  \n",
              "18             SC  \n",
              "19             SP  \n",
              "20             BA  \n",
              "21             SP  "
            ],
            "text/html": [
              "\n",
              "  <div id=\"df-d7c1c7d9-8838-4cff-bcd4-814f547029e3\" class=\"colab-df-container\">\n",
              "    <div>\n",
              "<style scoped>\n",
              "    .dataframe tbody tr th:only-of-type {\n",
              "        vertical-align: middle;\n",
              "    }\n",
              "\n",
              "    .dataframe tbody tr th {\n",
              "        vertical-align: top;\n",
              "    }\n",
              "\n",
              "    .dataframe thead th {\n",
              "        text-align: right;\n",
              "    }\n",
              "</style>\n",
              "<table border=\"1\" class=\"dataframe\">\n",
              "  <thead>\n",
              "    <tr style=\"text-align: right;\">\n",
              "      <th></th>\n",
              "      <th>order_id</th>\n",
              "      <th>order_status</th>\n",
              "      <th>order_purchase_timestamp</th>\n",
              "      <th>order_delivered_carrier_date</th>\n",
              "      <th>order_delivered_customer_date</th>\n",
              "      <th>order_estimated_delivery_date</th>\n",
              "      <th>customer_unique_id</th>\n",
              "      <th>customer_zip_code_prefix</th>\n",
              "      <th>order_item_id</th>\n",
              "      <th>product_id</th>\n",
              "      <th>price</th>\n",
              "      <th>freight_value</th>\n",
              "      <th>product_category_name_english</th>\n",
              "      <th>review_score</th>\n",
              "      <th>customer_latitude</th>\n",
              "      <th>customer_longitude</th>\n",
              "      <th>customer_city</th>\n",
              "      <th>customer_state</th>\n",
              "    </tr>\n",
              "  </thead>\n",
              "  <tbody>\n",
              "    <tr>\n",
              "      <th>0</th>\n",
              "      <td>e481f51cbdc54678b7cc49136f2d6af7</td>\n",
              "      <td>delivered</td>\n",
              "      <td>2017-10-02 10:56:33</td>\n",
              "      <td>2017-10-04 19:55:00</td>\n",
              "      <td>2017-10-10 21:25:13</td>\n",
              "      <td>2017-10-18 00:00:00</td>\n",
              "      <td>7c396fd4830fd04220f754e42b4e5bff</td>\n",
              "      <td>3149</td>\n",
              "      <td>1.0</td>\n",
              "      <td>87285b34884572647811a353c7ac498a</td>\n",
              "      <td>29.99</td>\n",
              "      <td>8.72</td>\n",
              "      <td>housewares</td>\n",
              "      <td>4.0</td>\n",
              "      <td>-23.574809</td>\n",
              "      <td>-46.587471</td>\n",
              "      <td>sao paulo</td>\n",
              "      <td>SP</td>\n",
              "    </tr>\n",
              "    <tr>\n",
              "      <th>1</th>\n",
              "      <td>53cdb2fc8bc7dce0b6741e2150273451</td>\n",
              "      <td>delivered</td>\n",
              "      <td>2018-07-24 20:41:37</td>\n",
              "      <td>2018-07-26 14:31:00</td>\n",
              "      <td>2018-08-07 15:27:45</td>\n",
              "      <td>2018-08-13 00:00:00</td>\n",
              "      <td>af07308b275d755c9edb36a90c618231</td>\n",
              "      <td>47813</td>\n",
              "      <td>1.0</td>\n",
              "      <td>595fac2a385ac33a80bd5114aec74eb8</td>\n",
              "      <td>118.70</td>\n",
              "      <td>22.76</td>\n",
              "      <td>perfumery</td>\n",
              "      <td>4.0</td>\n",
              "      <td>-12.169860</td>\n",
              "      <td>-44.988369</td>\n",
              "      <td>barreiras</td>\n",
              "      <td>BA</td>\n",
              "    </tr>\n",
              "    <tr>\n",
              "      <th>2</th>\n",
              "      <td>47770eb9100c2d0c44946d9cf07ec65d</td>\n",
              "      <td>delivered</td>\n",
              "      <td>2018-08-08 08:38:49</td>\n",
              "      <td>2018-08-08 13:50:00</td>\n",
              "      <td>2018-08-17 18:06:29</td>\n",
              "      <td>2018-09-04 00:00:00</td>\n",
              "      <td>3a653a41f6f9fc3d2a113cf8398680e8</td>\n",
              "      <td>75265</td>\n",
              "      <td>1.0</td>\n",
              "      <td>aa4383b373c6aca5d8797843e5594415</td>\n",
              "      <td>159.90</td>\n",
              "      <td>19.22</td>\n",
              "      <td>auto</td>\n",
              "      <td>5.0</td>\n",
              "      <td>-16.746337</td>\n",
              "      <td>-48.514624</td>\n",
              "      <td>vianopolis</td>\n",
              "      <td>GO</td>\n",
              "    </tr>\n",
              "    <tr>\n",
              "      <th>3</th>\n",
              "      <td>949d5b44dbf5de918fe9c16f97b45f8a</td>\n",
              "      <td>delivered</td>\n",
              "      <td>2017-11-18 19:28:06</td>\n",
              "      <td>2017-11-22 13:39:59</td>\n",
              "      <td>2017-12-02 00:28:42</td>\n",
              "      <td>2017-12-15 00:00:00</td>\n",
              "      <td>7c142cf63193a1473d2e66489a9ae977</td>\n",
              "      <td>59296</td>\n",
              "      <td>1.0</td>\n",
              "      <td>d0b61bfb1de832b15ba9d266ca96e5b0</td>\n",
              "      <td>45.00</td>\n",
              "      <td>27.20</td>\n",
              "      <td>pet_shop</td>\n",
              "      <td>5.0</td>\n",
              "      <td>-5.767733</td>\n",
              "      <td>-35.275467</td>\n",
              "      <td>sao goncalo do amarante</td>\n",
              "      <td>RN</td>\n",
              "    </tr>\n",
              "    <tr>\n",
              "      <th>4</th>\n",
              "      <td>ad21c59c0840e6cb83a9ceb5573f8159</td>\n",
              "      <td>delivered</td>\n",
              "      <td>2018-02-13 21:18:39</td>\n",
              "      <td>2018-02-14 19:46:34</td>\n",
              "      <td>2018-02-16 18:17:02</td>\n",
              "      <td>2018-02-26 00:00:00</td>\n",
              "      <td>72632f0f9dd73dfee390c9b22eb56dd6</td>\n",
              "      <td>9195</td>\n",
              "      <td>1.0</td>\n",
              "      <td>65266b2da20d04dbe00c5c2d3bb7859e</td>\n",
              "      <td>19.90</td>\n",
              "      <td>8.72</td>\n",
              "      <td>stationery</td>\n",
              "      <td>5.0</td>\n",
              "      <td>-23.675037</td>\n",
              "      <td>-46.524784</td>\n",
              "      <td>santo andre</td>\n",
              "      <td>SP</td>\n",
              "    </tr>\n",
              "    <tr>\n",
              "      <th>5</th>\n",
              "      <td>a4591c265e18cb1dcee52889e2d8acc3</td>\n",
              "      <td>delivered</td>\n",
              "      <td>2017-07-09 21:57:05</td>\n",
              "      <td>2017-07-11 14:58:04</td>\n",
              "      <td>2017-07-26 10:57:55</td>\n",
              "      <td>2017-08-01 00:00:00</td>\n",
              "      <td>80bb27c7c16e8f973207a5086ab329e2</td>\n",
              "      <td>86320</td>\n",
              "      <td>1.0</td>\n",
              "      <td>060cb19345d90064d1015407193c233d</td>\n",
              "      <td>147.90</td>\n",
              "      <td>27.36</td>\n",
              "      <td>auto</td>\n",
              "      <td>4.0</td>\n",
              "      <td>-23.548581</td>\n",
              "      <td>-50.550660</td>\n",
              "      <td>congonhinhas</td>\n",
              "      <td>PR</td>\n",
              "    </tr>\n",
              "    <tr>\n",
              "      <th>7</th>\n",
              "      <td>6514b8ad8028c9f2cc2374ded245783f</td>\n",
              "      <td>delivered</td>\n",
              "      <td>2017-05-16 13:10:30</td>\n",
              "      <td>2017-05-22 10:07:46</td>\n",
              "      <td>2017-05-26 12:55:51</td>\n",
              "      <td>2017-06-07 00:00:00</td>\n",
              "      <td>932afa1e708222e5821dac9cd5db4cae</td>\n",
              "      <td>26525</td>\n",
              "      <td>1.0</td>\n",
              "      <td>4520766ec412348b8d4caa5e8a18c464</td>\n",
              "      <td>59.99</td>\n",
              "      <td>15.17</td>\n",
              "      <td>auto</td>\n",
              "      <td>5.0</td>\n",
              "      <td>-22.800936</td>\n",
              "      <td>-43.424861</td>\n",
              "      <td>nilopolis</td>\n",
              "      <td>RJ</td>\n",
              "    </tr>\n",
              "    <tr>\n",
              "      <th>8</th>\n",
              "      <td>76c6e866289321a7c93b82b54852dc33</td>\n",
              "      <td>delivered</td>\n",
              "      <td>2017-01-23 18:29:09</td>\n",
              "      <td>2017-01-26 14:16:31</td>\n",
              "      <td>2017-02-02 14:08:10</td>\n",
              "      <td>2017-03-06 00:00:00</td>\n",
              "      <td>39382392765b6dc74812866ee5ee92a7</td>\n",
              "      <td>99655</td>\n",
              "      <td>1.0</td>\n",
              "      <td>ac1789e492dcd698c5c10b97a671243a</td>\n",
              "      <td>19.90</td>\n",
              "      <td>16.05</td>\n",
              "      <td>furniture_decor</td>\n",
              "      <td>1.0</td>\n",
              "      <td>-27.420763</td>\n",
              "      <td>-52.674188</td>\n",
              "      <td>faxinalzinho</td>\n",
              "      <td>RS</td>\n",
              "    </tr>\n",
              "    <tr>\n",
              "      <th>9</th>\n",
              "      <td>e69bfb5eb88e0ed6a785585b27e16dbf</td>\n",
              "      <td>delivered</td>\n",
              "      <td>2017-07-29 11:55:02</td>\n",
              "      <td>2017-08-10 19:45:24</td>\n",
              "      <td>2017-08-16 17:14:30</td>\n",
              "      <td>2017-08-23 00:00:00</td>\n",
              "      <td>299905e3934e9e181bfb2e164dd4b4f8</td>\n",
              "      <td>18075</td>\n",
              "      <td>1.0</td>\n",
              "      <td>9a78fb9862b10749a117f7fc3c31f051</td>\n",
              "      <td>149.99</td>\n",
              "      <td>19.77</td>\n",
              "      <td>office_furniture</td>\n",
              "      <td>5.0</td>\n",
              "      <td>-23.478754</td>\n",
              "      <td>-47.467931</td>\n",
              "      <td>sorocaba</td>\n",
              "      <td>SP</td>\n",
              "    </tr>\n",
              "    <tr>\n",
              "      <th>10</th>\n",
              "      <td>e6ce16cb79ec1d90b1da9085a6118aeb</td>\n",
              "      <td>delivered</td>\n",
              "      <td>2017-05-16 19:41:10</td>\n",
              "      <td>2017-05-18 11:40:40</td>\n",
              "      <td>2017-05-29 11:18:31</td>\n",
              "      <td>2017-06-07 00:00:00</td>\n",
              "      <td>f2a85dec752b8517b5e58a06ff3cd937</td>\n",
              "      <td>20780</td>\n",
              "      <td>1.0</td>\n",
              "      <td>08574b074924071f4e201e151b152b4e</td>\n",
              "      <td>99.00</td>\n",
              "      <td>30.53</td>\n",
              "      <td>garden_tools</td>\n",
              "      <td>1.0</td>\n",
              "      <td>-22.886501</td>\n",
              "      <td>-43.268834</td>\n",
              "      <td>rio de janeiro</td>\n",
              "      <td>RJ</td>\n",
              "    </tr>\n",
              "    <tr>\n",
              "      <th>11</th>\n",
              "      <td>e6ce16cb79ec1d90b1da9085a6118aeb</td>\n",
              "      <td>delivered</td>\n",
              "      <td>2017-05-16 19:41:10</td>\n",
              "      <td>2017-05-18 11:40:40</td>\n",
              "      <td>2017-05-29 11:18:31</td>\n",
              "      <td>2017-06-07 00:00:00</td>\n",
              "      <td>f2a85dec752b8517b5e58a06ff3cd937</td>\n",
              "      <td>20780</td>\n",
              "      <td>2.0</td>\n",
              "      <td>08574b074924071f4e201e151b152b4e</td>\n",
              "      <td>99.00</td>\n",
              "      <td>30.53</td>\n",
              "      <td>garden_tools</td>\n",
              "      <td>1.0</td>\n",
              "      <td>-22.886501</td>\n",
              "      <td>-43.268834</td>\n",
              "      <td>rio de janeiro</td>\n",
              "      <td>RJ</td>\n",
              "    </tr>\n",
              "    <tr>\n",
              "      <th>12</th>\n",
              "      <td>34513ce0c4fab462a55830c0989c7edb</td>\n",
              "      <td>delivered</td>\n",
              "      <td>2017-07-13 19:58:11</td>\n",
              "      <td>2017-07-14 18:43:29</td>\n",
              "      <td>2017-07-19 14:04:48</td>\n",
              "      <td>2017-08-08 00:00:00</td>\n",
              "      <td>782987b81c92239d922aa49d6bd4200b</td>\n",
              "      <td>4278</td>\n",
              "      <td>1.0</td>\n",
              "      <td>f7e0fa615b386bc9a8b9eb52bc1fff76</td>\n",
              "      <td>98.00</td>\n",
              "      <td>16.13</td>\n",
              "      <td>computers_accessories</td>\n",
              "      <td>4.0</td>\n",
              "      <td>-23.602105</td>\n",
              "      <td>-46.608607</td>\n",
              "      <td>sao paulo</td>\n",
              "      <td>SP</td>\n",
              "    </tr>\n",
              "    <tr>\n",
              "      <th>13</th>\n",
              "      <td>82566a660a982b15fb86e904c8d32918</td>\n",
              "      <td>delivered</td>\n",
              "      <td>2018-06-07 10:06:19</td>\n",
              "      <td>2018-06-11 13:29:00</td>\n",
              "      <td>2018-06-19 12:05:52</td>\n",
              "      <td>2018-07-18 00:00:00</td>\n",
              "      <td>e97109680b052ee858d93a539597bba7</td>\n",
              "      <td>35400</td>\n",
              "      <td>1.0</td>\n",
              "      <td>72a97c271b2e429974398f46b93ae530</td>\n",
              "      <td>31.90</td>\n",
              "      <td>18.23</td>\n",
              "      <td>perfumery</td>\n",
              "      <td>5.0</td>\n",
              "      <td>-20.385237</td>\n",
              "      <td>-43.505513</td>\n",
              "      <td>ouro preto</td>\n",
              "      <td>MG</td>\n",
              "    </tr>\n",
              "    <tr>\n",
              "      <th>14</th>\n",
              "      <td>5ff96c15d0b717ac6ad1f3d77225a350</td>\n",
              "      <td>delivered</td>\n",
              "      <td>2018-07-25 17:44:10</td>\n",
              "      <td>2018-07-26 13:16:00</td>\n",
              "      <td>2018-07-30 15:52:25</td>\n",
              "      <td>2018-08-08 00:00:00</td>\n",
              "      <td>e2dfa3127fedbbca9707b36304996dab</td>\n",
              "      <td>4812</td>\n",
              "      <td>1.0</td>\n",
              "      <td>10adb53d8faa890ca7c2f0cbcb68d777</td>\n",
              "      <td>19.90</td>\n",
              "      <td>12.80</td>\n",
              "      <td>bed_bath_table</td>\n",
              "      <td>5.0</td>\n",
              "      <td>-23.711919</td>\n",
              "      <td>-46.687252</td>\n",
              "      <td>sao paulo</td>\n",
              "      <td>SP</td>\n",
              "    </tr>\n",
              "    <tr>\n",
              "      <th>15</th>\n",
              "      <td>432aaf21d85167c2c86ec9448c4e42cc</td>\n",
              "      <td>delivered</td>\n",
              "      <td>2018-03-01 14:14:28</td>\n",
              "      <td>2018-03-02 21:09:20</td>\n",
              "      <td>2018-03-12 23:36:26</td>\n",
              "      <td>2018-03-21 00:00:00</td>\n",
              "      <td>04cf8185c71090d28baa4407b2e6d600</td>\n",
              "      <td>5271</td>\n",
              "      <td>1.0</td>\n",
              "      <td>72d3bf1d3a790f8874096fcf860e3eff</td>\n",
              "      <td>38.25</td>\n",
              "      <td>16.11</td>\n",
              "      <td>toys</td>\n",
              "      <td>4.0</td>\n",
              "      <td>-23.428081</td>\n",
              "      <td>-46.793659</td>\n",
              "      <td>sao paulo</td>\n",
              "      <td>SP</td>\n",
              "    </tr>\n",
              "    <tr>\n",
              "      <th>16</th>\n",
              "      <td>dcb36b511fcac050b97cd5c05de84dc3</td>\n",
              "      <td>delivered</td>\n",
              "      <td>2018-06-07 19:03:12</td>\n",
              "      <td>2018-06-11 14:54:00</td>\n",
              "      <td>2018-06-21 15:34:32</td>\n",
              "      <td>2018-07-04 00:00:00</td>\n",
              "      <td>ccafc1c3f270410521c3c6f3b249870f</td>\n",
              "      <td>74820</td>\n",
              "      <td>1.0</td>\n",
              "      <td>009c09f439988bc06a93d6b8186dce73</td>\n",
              "      <td>132.40</td>\n",
              "      <td>14.05</td>\n",
              "      <td>perfumery</td>\n",
              "      <td>5.0</td>\n",
              "      <td>-16.712157</td>\n",
              "      <td>-49.248251</td>\n",
              "      <td>goiania</td>\n",
              "      <td>GO</td>\n",
              "    </tr>\n",
              "    <tr>\n",
              "      <th>18</th>\n",
              "      <td>116f0b09343b49556bbad5f35bee0cdf</td>\n",
              "      <td>delivered</td>\n",
              "      <td>2017-12-26 23:41:31</td>\n",
              "      <td>2017-12-28 18:33:05</td>\n",
              "      <td>2018-01-08 22:36:36</td>\n",
              "      <td>2018-01-29 00:00:00</td>\n",
              "      <td>6087cfc70fd833cf2db637a5e6e9d76b</td>\n",
              "      <td>88780</td>\n",
              "      <td>1.0</td>\n",
              "      <td>a47295965bd091207681b541b26e40a5</td>\n",
              "      <td>27.99</td>\n",
              "      <td>15.10</td>\n",
              "      <td>telephony</td>\n",
              "      <td>5.0</td>\n",
              "      <td>-28.190231</td>\n",
              "      <td>-48.664604</td>\n",
              "      <td>imbituba</td>\n",
              "      <td>SC</td>\n",
              "    </tr>\n",
              "    <tr>\n",
              "      <th>19</th>\n",
              "      <td>85ce859fd6dc634de8d2f1e290444043</td>\n",
              "      <td>delivered</td>\n",
              "      <td>2017-11-21 00:03:41</td>\n",
              "      <td>2017-11-23 21:32:26</td>\n",
              "      <td>2017-11-27 18:28:00</td>\n",
              "      <td>2017-12-11 00:00:00</td>\n",
              "      <td>d0ff1a7468fcc46b8fc658ab35d2a12c</td>\n",
              "      <td>13186</td>\n",
              "      <td>1.0</td>\n",
              "      <td>cce679660c66e6fbd5c8091dfd29e9cd</td>\n",
              "      <td>17.90</td>\n",
              "      <td>11.85</td>\n",
              "      <td>bed_bath_table</td>\n",
              "      <td>5.0</td>\n",
              "      <td>-22.887515</td>\n",
              "      <td>-47.195739</td>\n",
              "      <td>hortolandia</td>\n",
              "      <td>SP</td>\n",
              "    </tr>\n",
              "    <tr>\n",
              "      <th>20</th>\n",
              "      <td>83018ec114eee8641c97e08f7b4e926f</td>\n",
              "      <td>delivered</td>\n",
              "      <td>2017-10-26 15:54:26</td>\n",
              "      <td>2017-10-26 21:46:53</td>\n",
              "      <td>2017-11-08 22:22:00</td>\n",
              "      <td>2017-11-23 00:00:00</td>\n",
              "      <td>634f09f6075fe9032e6c19609ffe995a</td>\n",
              "      <td>44024</td>\n",
              "      <td>1.0</td>\n",
              "      <td>c35498fbb4358837ae16850f50c3fd22</td>\n",
              "      <td>76.00</td>\n",
              "      <td>16.97</td>\n",
              "      <td>telephony</td>\n",
              "      <td>4.0</td>\n",
              "      <td>-12.244947</td>\n",
              "      <td>-38.980318</td>\n",
              "      <td>feira de santana</td>\n",
              "      <td>BA</td>\n",
              "    </tr>\n",
              "    <tr>\n",
              "      <th>21</th>\n",
              "      <td>203096f03d82e0dffbc41ebc2e2bcfb7</td>\n",
              "      <td>delivered</td>\n",
              "      <td>2017-09-18 14:31:30</td>\n",
              "      <td>2017-10-06 17:50:03</td>\n",
              "      <td>2017-10-09 22:23:46</td>\n",
              "      <td>2017-09-28 00:00:00</td>\n",
              "      <td>d699688533772c15a061e8ce81cb56df</td>\n",
              "      <td>4001</td>\n",
              "      <td>1.0</td>\n",
              "      <td>5ac9d9e379c606e36a8094a6046f75dc</td>\n",
              "      <td>109.90</td>\n",
              "      <td>8.96</td>\n",
              "      <td>health_beauty</td>\n",
              "      <td>2.0</td>\n",
              "      <td>-23.572301</td>\n",
              "      <td>-46.652000</td>\n",
              "      <td>sao paulo</td>\n",
              "      <td>SP</td>\n",
              "    </tr>\n",
              "  </tbody>\n",
              "</table>\n",
              "</div>\n",
              "    <div class=\"colab-df-buttons\">\n",
              "\n",
              "  <div class=\"colab-df-container\">\n",
              "    <button class=\"colab-df-convert\" onclick=\"convertToInteractive('df-d7c1c7d9-8838-4cff-bcd4-814f547029e3')\"\n",
              "            title=\"Convert this dataframe to an interactive table.\"\n",
              "            style=\"display:none;\">\n",
              "\n",
              "  <svg xmlns=\"http://www.w3.org/2000/svg\" height=\"24px\" viewBox=\"0 -960 960 960\">\n",
              "    <path d=\"M120-120v-720h720v720H120Zm60-500h600v-160H180v160Zm220 220h160v-160H400v160Zm0 220h160v-160H400v160ZM180-400h160v-160H180v160Zm440 0h160v-160H620v160ZM180-180h160v-160H180v160Zm440 0h160v-160H620v160Z\"/>\n",
              "  </svg>\n",
              "    </button>\n",
              "\n",
              "  <style>\n",
              "    .colab-df-container {\n",
              "      display:flex;\n",
              "      gap: 12px;\n",
              "    }\n",
              "\n",
              "    .colab-df-convert {\n",
              "      background-color: #E8F0FE;\n",
              "      border: none;\n",
              "      border-radius: 50%;\n",
              "      cursor: pointer;\n",
              "      display: none;\n",
              "      fill: #1967D2;\n",
              "      height: 32px;\n",
              "      padding: 0 0 0 0;\n",
              "      width: 32px;\n",
              "    }\n",
              "\n",
              "    .colab-df-convert:hover {\n",
              "      background-color: #E2EBFA;\n",
              "      box-shadow: 0px 1px 2px rgba(60, 64, 67, 0.3), 0px 1px 3px 1px rgba(60, 64, 67, 0.15);\n",
              "      fill: #174EA6;\n",
              "    }\n",
              "\n",
              "    .colab-df-buttons div {\n",
              "      margin-bottom: 4px;\n",
              "    }\n",
              "\n",
              "    [theme=dark] .colab-df-convert {\n",
              "      background-color: #3B4455;\n",
              "      fill: #D2E3FC;\n",
              "    }\n",
              "\n",
              "    [theme=dark] .colab-df-convert:hover {\n",
              "      background-color: #434B5C;\n",
              "      box-shadow: 0px 1px 3px 1px rgba(0, 0, 0, 0.15);\n",
              "      filter: drop-shadow(0px 1px 2px rgba(0, 0, 0, 0.3));\n",
              "      fill: #FFFFFF;\n",
              "    }\n",
              "  </style>\n",
              "\n",
              "    <script>\n",
              "      const buttonEl =\n",
              "        document.querySelector('#df-d7c1c7d9-8838-4cff-bcd4-814f547029e3 button.colab-df-convert');\n",
              "      buttonEl.style.display =\n",
              "        google.colab.kernel.accessAllowed ? 'block' : 'none';\n",
              "\n",
              "      async function convertToInteractive(key) {\n",
              "        const element = document.querySelector('#df-d7c1c7d9-8838-4cff-bcd4-814f547029e3');\n",
              "        const dataTable =\n",
              "          await google.colab.kernel.invokeFunction('convertToInteractive',\n",
              "                                                    [key], {});\n",
              "        if (!dataTable) return;\n",
              "\n",
              "        const docLinkHtml = 'Like what you see? Visit the ' +\n",
              "          '<a target=\"_blank\" href=https://colab.research.google.com/notebooks/data_table.ipynb>data table notebook</a>'\n",
              "          + ' to learn more about interactive tables.';\n",
              "        element.innerHTML = '';\n",
              "        dataTable['output_type'] = 'display_data';\n",
              "        await google.colab.output.renderOutput(dataTable, element);\n",
              "        const docLink = document.createElement('div');\n",
              "        docLink.innerHTML = docLinkHtml;\n",
              "        element.appendChild(docLink);\n",
              "      }\n",
              "    </script>\n",
              "  </div>\n",
              "\n",
              "\n",
              "<div id=\"df-5bc6f8ee-0bf2-465a-8449-8ae515bbe2e6\">\n",
              "  <button class=\"colab-df-quickchart\" onclick=\"quickchart('df-5bc6f8ee-0bf2-465a-8449-8ae515bbe2e6')\"\n",
              "            title=\"Suggest charts\"\n",
              "            style=\"display:none;\">\n",
              "\n",
              "<svg xmlns=\"http://www.w3.org/2000/svg\" height=\"24px\"viewBox=\"0 0 24 24\"\n",
              "     width=\"24px\">\n",
              "    <g>\n",
              "        <path d=\"M19 3H5c-1.1 0-2 .9-2 2v14c0 1.1.9 2 2 2h14c1.1 0 2-.9 2-2V5c0-1.1-.9-2-2-2zM9 17H7v-7h2v7zm4 0h-2V7h2v10zm4 0h-2v-4h2v4z\"/>\n",
              "    </g>\n",
              "</svg>\n",
              "  </button>\n",
              "\n",
              "<style>\n",
              "  .colab-df-quickchart {\n",
              "      --bg-color: #E8F0FE;\n",
              "      --fill-color: #1967D2;\n",
              "      --hover-bg-color: #E2EBFA;\n",
              "      --hover-fill-color: #174EA6;\n",
              "      --disabled-fill-color: #AAA;\n",
              "      --disabled-bg-color: #DDD;\n",
              "  }\n",
              "\n",
              "  [theme=dark] .colab-df-quickchart {\n",
              "      --bg-color: #3B4455;\n",
              "      --fill-color: #D2E3FC;\n",
              "      --hover-bg-color: #434B5C;\n",
              "      --hover-fill-color: #FFFFFF;\n",
              "      --disabled-bg-color: #3B4455;\n",
              "      --disabled-fill-color: #666;\n",
              "  }\n",
              "\n",
              "  .colab-df-quickchart {\n",
              "    background-color: var(--bg-color);\n",
              "    border: none;\n",
              "    border-radius: 50%;\n",
              "    cursor: pointer;\n",
              "    display: none;\n",
              "    fill: var(--fill-color);\n",
              "    height: 32px;\n",
              "    padding: 0;\n",
              "    width: 32px;\n",
              "  }\n",
              "\n",
              "  .colab-df-quickchart:hover {\n",
              "    background-color: var(--hover-bg-color);\n",
              "    box-shadow: 0 1px 2px rgba(60, 64, 67, 0.3), 0 1px 3px 1px rgba(60, 64, 67, 0.15);\n",
              "    fill: var(--button-hover-fill-color);\n",
              "  }\n",
              "\n",
              "  .colab-df-quickchart-complete:disabled,\n",
              "  .colab-df-quickchart-complete:disabled:hover {\n",
              "    background-color: var(--disabled-bg-color);\n",
              "    fill: var(--disabled-fill-color);\n",
              "    box-shadow: none;\n",
              "  }\n",
              "\n",
              "  .colab-df-spinner {\n",
              "    border: 2px solid var(--fill-color);\n",
              "    border-color: transparent;\n",
              "    border-bottom-color: var(--fill-color);\n",
              "    animation:\n",
              "      spin 1s steps(1) infinite;\n",
              "  }\n",
              "\n",
              "  @keyframes spin {\n",
              "    0% {\n",
              "      border-color: transparent;\n",
              "      border-bottom-color: var(--fill-color);\n",
              "      border-left-color: var(--fill-color);\n",
              "    }\n",
              "    20% {\n",
              "      border-color: transparent;\n",
              "      border-left-color: var(--fill-color);\n",
              "      border-top-color: var(--fill-color);\n",
              "    }\n",
              "    30% {\n",
              "      border-color: transparent;\n",
              "      border-left-color: var(--fill-color);\n",
              "      border-top-color: var(--fill-color);\n",
              "      border-right-color: var(--fill-color);\n",
              "    }\n",
              "    40% {\n",
              "      border-color: transparent;\n",
              "      border-right-color: var(--fill-color);\n",
              "      border-top-color: var(--fill-color);\n",
              "    }\n",
              "    60% {\n",
              "      border-color: transparent;\n",
              "      border-right-color: var(--fill-color);\n",
              "    }\n",
              "    80% {\n",
              "      border-color: transparent;\n",
              "      border-right-color: var(--fill-color);\n",
              "      border-bottom-color: var(--fill-color);\n",
              "    }\n",
              "    90% {\n",
              "      border-color: transparent;\n",
              "      border-bottom-color: var(--fill-color);\n",
              "    }\n",
              "  }\n",
              "</style>\n",
              "\n",
              "  <script>\n",
              "    async function quickchart(key) {\n",
              "      const quickchartButtonEl =\n",
              "        document.querySelector('#' + key + ' button');\n",
              "      quickchartButtonEl.disabled = true;  // To prevent multiple clicks.\n",
              "      quickchartButtonEl.classList.add('colab-df-spinner');\n",
              "      try {\n",
              "        const charts = await google.colab.kernel.invokeFunction(\n",
              "            'suggestCharts', [key], {});\n",
              "      } catch (error) {\n",
              "        console.error('Error during call to suggestCharts:', error);\n",
              "      }\n",
              "      quickchartButtonEl.classList.remove('colab-df-spinner');\n",
              "      quickchartButtonEl.classList.add('colab-df-quickchart-complete');\n",
              "    }\n",
              "    (() => {\n",
              "      let quickchartButtonEl =\n",
              "        document.querySelector('#df-5bc6f8ee-0bf2-465a-8449-8ae515bbe2e6 button');\n",
              "      quickchartButtonEl.style.display =\n",
              "        google.colab.kernel.accessAllowed ? 'block' : 'none';\n",
              "    })();\n",
              "  </script>\n",
              "</div>\n",
              "\n",
              "    </div>\n",
              "  </div>\n"
            ]
          },
          "metadata": {}
        }
      ],
      "source": [
        "\n",
        "\n",
        "\n",
        "\n",
        "# YOUR CODE HERE\n",
        "#display(data.head())\n",
        "display(data.head(20))"
      ]
    },
    {
      "cell_type": "markdown",
      "metadata": {
        "id": "OkWEufgWqR7R"
      },
      "source": [
        "## Part 2 (Cleaning data)"
      ]
    },
    {
      "cell_type": "markdown",
      "metadata": {
        "id": "l2pG7MezqR7R"
      },
      "source": [
        "\n",
        "\n",
        "### Step 1:\n",
        "First step in cleaning is to check how many no-data (missing values) and duplicate values we have:\n",
        "\n",
        "- Check how many no-data (null) values exist for each column\n",
        "- Check how many duplicate rows exist (How many rows have identical values for all columns)"
      ]
    },
    {
      "cell_type": "code",
      "execution_count": 4,
      "metadata": {
        "id": "UO5wYthzqR7R"
      },
      "outputs": [],
      "source": [
        "nodata_count = None # count the number of nodata values\n",
        "duplicate_count = None # count the number of duplicate values\n",
        "\n",
        "\n",
        "# YOUR CODE HERE\n",
        "nodata_count = data.isnull().sum()\n",
        "duplicate_count = data.duplicated().sum() # count the number of duplicate values\n"
      ]
    },
    {
      "cell_type": "code",
      "execution_count": 5,
      "metadata": {
        "colab": {
          "base_uri": "https://localhost:8080/"
        },
        "id": "DJ2a32X-qR7R",
        "outputId": "da44ab5d-9bed-4187-86bc-72d3695e4d21"
      },
      "outputs": [
        {
          "output_type": "stream",
          "name": "stdout",
          "text": [
            "Number of no-data values in each column:\n",
            " order_id                            0\n",
            "order_status                        0\n",
            "order_purchase_timestamp            0\n",
            "order_delivered_carrier_date     1980\n",
            "order_delivered_customer_date    3253\n",
            "order_estimated_delivery_date       0\n",
            "customer_unique_id                  0\n",
            "customer_zip_code_prefix            0\n",
            "order_item_id                     778\n",
            "product_id                        778\n",
            "price                             778\n",
            "freight_value                     778\n",
            "seller_zip_code_prefix            778\n",
            "seller_city                       778\n",
            "product_category_name_english    2414\n",
            "review_score                      961\n",
            "customer_latitude                 311\n",
            "customer_longitude                311\n",
            "customer_city                     311\n",
            "customer_state                    311\n",
            "dtype: int64 \n",
            "\n",
            "Number of duplicate values in each column: 401\n"
          ]
        }
      ],
      "source": [
        "######### This is a test-cell that print the number of null and duplicate rows #########\n",
        "\n",
        "print(f'Number of no-data values in each column:\\n {nodata_count} \\n')\n",
        "print(f'Number of duplicate values in each column: {duplicate_count}')"
      ]
    },
    {
      "cell_type": "markdown",
      "metadata": {
        "id": "8f6wJOUvqR7R"
      },
      "source": [
        "### Step 2:\n",
        "To clean the data, we need to eliminate any rows containing null values and also remove any duplicate rows.\n",
        "\n",
        "- Write code to remove all null values\n",
        "- Write code to remove all duplicate rows in the dataframe."
      ]
    },
    {
      "cell_type": "code",
      "execution_count": 6,
      "metadata": {
        "id": "dd9tsPwrqR7S"
      },
      "outputs": [],
      "source": [
        "\n",
        "# YOUR CODE HERE\n",
        "# Task to remove null values and duplicate rows\n",
        "data.dropna(inplace=True) # To remove all the rows containing null values\n",
        "data.drop_duplicates(inplace=True) # remove all duplicate rows in the datadrame"
      ]
    },
    {
      "cell_type": "markdown",
      "metadata": {
        "id": "9vznStThqR7S"
      },
      "source": [
        "### Step 3:\n",
        "\n",
        "Next step is to remove unnecessary information.\n",
        "\n",
        "Some information in the data might be extra for our current analysis including  `seller_zip_code_prefix` and  `seller_city`.\n",
        "\n",
        "- Identify and remove mentioned columns from the dataframe\n"
      ]
    },
    {
      "cell_type": "code",
      "execution_count": 7,
      "metadata": {
        "id": "qE4p2dOVqR7S"
      },
      "outputs": [],
      "source": [
        "\n",
        "\n",
        "# YOUR CODE HERE\n",
        "# Task to remove some information not required in the data\n",
        "columns_to_remove = ['seller_zip_code_prefix', 'seller_city'] # The two columns we are removing from the data set\n",
        "data = data.drop(columns=columns_to_remove)\n"
      ]
    },
    {
      "cell_type": "markdown",
      "metadata": {
        "id": "o1aodsvKqR7S"
      },
      "source": [
        "For the purpose of this analysis, we just need to only work with orders that have been in fact, delivered.\n",
        "Using the column `order_status` you can check the status of orders.\n",
        "\n",
        "- You should filter the dataframe to keep the rows with \"delivered\" status\n"
      ]
    },
    {
      "cell_type": "code",
      "execution_count": 8,
      "metadata": {
        "id": "IHdsoCUJqR7S"
      },
      "outputs": [],
      "source": [
        "\n",
        "# YOUR CODE HERE\n",
        "# To check the status of orders in the dataset with emphasis on orders that are delivered\n",
        "group_delivered = data[data['order_status'] == 'delivered']"
      ]
    },
    {
      "cell_type": "code",
      "execution_count": 9,
      "metadata": {
        "colab": {
          "base_uri": "https://localhost:8080/"
        },
        "id": "Hm4ZHCMdqR7S",
        "outputId": "c6e68401-1f0e-4ff1-b11a-40a174a7a760"
      },
      "outputs": [
        {
          "output_type": "stream",
          "name": "stdout",
          "text": [
            "delivered    107777\n",
            "canceled          7\n",
            "Name: order_status, dtype: int64\n"
          ]
        }
      ],
      "source": [
        "######### This is a test-cell that shows the descriptive statistics of the data #########\n",
        "print(data['order_status'].value_counts())"
      ]
    },
    {
      "cell_type": "markdown",
      "metadata": {
        "id": "l4BFhkLnqR7S"
      },
      "source": [
        "### Step 4:\n",
        "We need to ensure that the location information we have about customers (customer_latitude and customer_longitude) falls within the geographical boundaries of Brazil. To achieve this, we must filter out latitude values that are not within the northern and southern bounds of Brazil, and similarly, remove longitude values that are outside the western and eastern bounds of Brazil.\n",
        "\n",
        "- Write code to filter the location data, ensuring it falls within the geographical boundaries of Brazil."
      ]
    },
    {
      "cell_type": "code",
      "execution_count": 11,
      "metadata": {
        "id": "pS9WAA62qR7S"
      },
      "outputs": [],
      "source": [
        "# Brazils most Northern spot is at 5.27438888 latitude;\n",
        "# Brazils most Southern spot is at -33.75083333 latitude;\n",
        "# Brazils most Eastern spot is at -34.79314722 longitude;\n",
        "# Brazils most Western spot is at -73.98555556 longitude;\n",
        "\n",
        "\n",
        "\n",
        "\n",
        "# YOUR CODE HERE\n",
        "# To Filter the location data and ensuring it fall within geographical boundaries of Brazil\n",
        "# Define updated geographical boundaries for Brazil\n",
        "northern_bound = (data['customer_latitude'] <= 5.27438888)\n",
        "southern_bound = (data['customer_latitude'] >= -33.75083333)\n",
        "western_bound = (data['customer_longitude'] >= -73.98555556)\n",
        "eastern_bound = (data['customer_longitude'] >= -34.79314722)\n",
        "\n",
        "# Apply filters to the DataFrame\n",
        "brazil_boundary_data = data[northern_bound & southern_bound & western_bound & eastern_bound]"
      ]
    },
    {
      "cell_type": "markdown",
      "metadata": {
        "id": "35RfEI8AqR7T"
      },
      "source": [
        "### Step 5:\n",
        "The dataset contains four columns with date and time information. By default, pandas considers them as text strings.\n",
        "Your objective is to write a code that converts the columns `order_purchase_timestamp`, `order_delivered_carrier_date`, `order_delivered_customer_date`, and `order_estimated_delivery_date` to the datetime format in pandas.\n",
        "\n",
        "Steps:\n",
        "\n",
        "- Write code to convert these columns to the datetime format using the `pd.to_datetime` function.\n",
        "- Update the original dataframe with the newly formatted date and time columns.\n"
      ]
    },
    {
      "cell_type": "code",
      "execution_count": null,
      "metadata": {
        "id": "B___FO2oqR7T"
      },
      "outputs": [],
      "source": [
        "\n",
        "\n",
        "# YOUR CODE HERE\n",
        "raise NotImplementedError()"
      ]
    },
    {
      "cell_type": "code",
      "execution_count": null,
      "metadata": {
        "id": "RXdXiTnjqR7T"
      },
      "outputs": [],
      "source": [
        "######### This is a test-cell to show the  data types of the columns #########\n",
        "\n",
        "data.dtypes"
      ]
    },
    {
      "cell_type": "code",
      "execution_count": null,
      "metadata": {
        "id": "8QqeD6doqR7T"
      },
      "outputs": [],
      "source": [
        "######### This is a test-cell that shows the descriptive statistics of the data #########\n",
        "\n",
        "data.describe()"
      ]
    },
    {
      "cell_type": "markdown",
      "metadata": {
        "id": "1fFJmUG_qR7T"
      },
      "source": [
        "## Part 3 (Data Exploratory Analysis)"
      ]
    },
    {
      "cell_type": "markdown",
      "metadata": {
        "id": "TmMdb7vvqR7T"
      },
      "source": [
        "### Step 1: What is the Total Revenue Per Day?\n",
        "\n",
        "\n",
        "To determine the total revenue for each day, you can follow these steps:\n",
        "\n",
        "1. Use `order_purchase_timestamp` column, convert it to 1 day period and store it in new column (e.g. you can name it `day`).\n",
        "2. Use `day` and pandas `pd.groupby()` functionality to group data based on the column `day`\n",
        "3. Use pandas functionality `.agg()` to aggregate the members in each group calculate the sum of `price` while aggregating.\n",
        "4. Ensure that the results include the relevant time frame from September 2016 to August 2018."
      ]
    },
    {
      "cell_type": "code",
      "execution_count": null,
      "metadata": {
        "id": "xnRJ2CKEqR7T"
      },
      "outputs": [],
      "source": [
        "\n",
        "\n",
        "\n",
        "\n",
        "# YOUR CODE HERE\n",
        "raise NotImplementedError()"
      ]
    },
    {
      "cell_type": "markdown",
      "metadata": {
        "id": "LgfbzcS4qR7T"
      },
      "source": [
        "Next, after determining the total revenue for each day, you can proceed to visualize the results using a **line chart**.\n",
        "Follow these steps:\n",
        "\n",
        "- You can use matplotlib (or any other libraries such as seaborn, etc) to plot the **line chart**.\n",
        "- Use `day` in x-axis and aggregated price as y-axis of the chart.\n",
        "- Label the x-axis with the corresponding days.\n",
        "- Enhance the chart with appropriate titles and labels for clarity.\n"
      ]
    },
    {
      "cell_type": "code",
      "execution_count": null,
      "metadata": {
        "id": "jhG4d33mqR7U"
      },
      "outputs": [],
      "source": [
        "# Import the necessary packages\n",
        "import matplotlib.pyplot as plt\n",
        "# import seaborn as sns         # optionally you can use seaborn style\n",
        "\n",
        "plt.figure(figsize=(12, 6))\n",
        "\n",
        "\n",
        "# YOUR CODE HERE\n",
        "raise NotImplementedError()\n",
        "\n",
        "\n",
        "\n",
        "plt.show()"
      ]
    },
    {
      "cell_type": "markdown",
      "metadata": {
        "id": "BIZB11VCqR7U"
      },
      "source": [
        "The matplotlib line chart plot should produce something like following:\n",
        "\n",
        "![Bar chart](img/line_chart.png)"
      ]
    },
    {
      "cell_type": "markdown",
      "metadata": {
        "id": "bTUX9q81qR7U"
      },
      "source": [
        "### Question 1:\n",
        "\n",
        "1. Dive into the line chart and tell us in few sentences what you discover about the daily revenue trends during the specific time period. Can you find any general tren during the perios? Take a deeper look at the spike indicated in the provided example and try to suggest why that happened.\n",
        "\n",
        "*Hint : (You can take a look at calendar for 2017 and see what you can find!)*"
      ]
    },
    {
      "cell_type": "markdown",
      "metadata": {
        "id": "yn2S_MP4qR7U"
      },
      "source": [
        "\n",
        "YOUR ANSWER HERE\n"
      ]
    },
    {
      "cell_type": "markdown",
      "metadata": {
        "id": "RXi78m2nqR7U"
      },
      "source": [
        "### Step 2: What's the Distribution of Customer Reviews?\n",
        "\n",
        "The next step involves calculating customer review rates and visualizing the distribution using a pie chart. This give insight about overal satisfaction of customers of this online store.\n",
        "\n",
        "Follow these steps:\n",
        "\n",
        "\n",
        "1. Write a code to group the data by review rate, considering a scale from 1 to 5.\n",
        "2. Utilize the calculated distribution to create a pie chart, where each slice represents the percentage of reviews.\n",
        "3. Label each segment of the pie chart with the corresponding review rate (1, 2, 3, 4, 5).\n",
        "4. Enhance the chart with appropriate titles and labels for clarity.\n",
        "\n",
        "\n"
      ]
    },
    {
      "cell_type": "code",
      "execution_count": null,
      "metadata": {
        "id": "BviLnAkwqR7U"
      },
      "outputs": [],
      "source": [
        "# Import the necessary packages\n",
        "import matplotlib.pyplot as plt\n",
        "# import seaborn as sns         # optionally you can use seaborn style\n",
        "\n",
        "plt.figure(figsize=(12, 6))\n",
        "\n",
        "\n",
        "\n",
        "# YOUR CODE HERE\n",
        "raise NotImplementedError()\n",
        "\n",
        "\n",
        "\n",
        "plt.show()"
      ]
    },
    {
      "cell_type": "markdown",
      "metadata": {
        "id": "KhoYmFqVqR7V"
      },
      "source": [
        "### Question 2:\n",
        "\n",
        "2. By taking a close look at the pie chart, what can you tell us about the percentage distribution of reviews among the customers? Explain your findings in few sentences."
      ]
    },
    {
      "cell_type": "markdown",
      "metadata": {
        "id": "9BJ_eMm9qR7V"
      },
      "source": [
        "YOUR ANSWER HERE"
      ]
    },
    {
      "cell_type": "markdown",
      "metadata": {
        "id": "LOvJBqZZqR7V"
      },
      "source": [
        "### Step 3: What Are Customers Buying?\n",
        "\n",
        "To identify the top 10 most purchased product categories, and subsequently plot a bar chart, follow these steps:\n",
        "\n",
        "1. Write a code to group the data by the 'product_category_name_english' field.\n",
        "2. Calculate the total count each product category.\n",
        "3. Sort the product categories based on the calculated count in descending order.\n",
        "4. Select the top 10 product categories with the highest quantity.\n",
        "5. Utilize the selected data to create a bar chart, where each bar represents a product category and the height represents the quantity.\n",
        "6. Label each bar with the corresponding product category name.\n",
        "7. Enhance the chart with appropriate titles and labels for clarity.\n"
      ]
    },
    {
      "cell_type": "code",
      "execution_count": null,
      "metadata": {
        "id": "_ztKs68pqR7V"
      },
      "outputs": [],
      "source": [
        "# Import the necessary packages\n",
        "import matplotlib.pyplot as plt\n",
        "# import seaborn as sns         # optionally you can use seaborn style\n",
        "\n",
        "plt.figure(figsize=(12, 6))\n",
        "\n",
        "\n",
        "\n",
        "# YOUR CODE HERE\n",
        "raise NotImplementedError()\n",
        "\n",
        "\n",
        "\n",
        "plt.show()"
      ]
    },
    {
      "cell_type": "markdown",
      "metadata": {
        "id": "pgoCSAy8qR7V"
      },
      "source": [
        "The matplotlib bar chart plot should produce something like following:\n",
        "\n",
        "![Bar chart](img/top10_products.png)"
      ]
    },
    {
      "cell_type": "markdown",
      "metadata": {
        "id": "vUD7jyWIqR7W"
      },
      "source": [
        "### Step 4: How Variable Are the Delivery Times for Each Product Category?\n",
        "\n",
        "Use Box plot to vizualize boxplots for delivery time based on each product category type:\n",
        "\n",
        "1. Calculate the delivery time by subtracting 'order_delivered_carrier_date' from 'order_delivered_customer_date'. Convert the result to days.\n",
        "2. Create a new column in your dataset to store the calculated delivery time.\n",
        "3. Create a new dataframe by grouping data by 'product_category_name_english' column and aggregate the group by averaging delivery time {\"delivery_time_days\": \"mean\"}\n",
        "\n"
      ]
    },
    {
      "cell_type": "code",
      "execution_count": null,
      "metadata": {
        "id": "7RN4p1GNqR7W"
      },
      "outputs": [],
      "source": [
        "\n",
        "\n",
        "\n",
        "\n",
        "# YOUR CODE HERE\n",
        "raise NotImplementedError()"
      ]
    },
    {
      "cell_type": "markdown",
      "metadata": {
        "id": "7qTn_-wvqR7W"
      },
      "source": [
        "\n",
        "4. Create a box plot for delivery time for each category (optional hint: You can use `Seaborn` to have plot nicer boxplot)\n",
        "\n",
        "(note: You can play with boxplot setting, for example if you see your plot is too busy and not readable, you can set `showfliers=False` to prevent showing outliars, and you can change label rotation to 90.)\n"
      ]
    },
    {
      "cell_type": "code",
      "execution_count": null,
      "metadata": {
        "id": "xxHvffJaqR7W"
      },
      "outputs": [],
      "source": [
        "# Import the necessary packages\n",
        "import matplotlib.pyplot as plt\n",
        "# import seaborn as sns         # optionally you can use seaborn style\n",
        "\n",
        "plt.figure(figsize=(12, 6))\n",
        "\n",
        "\n",
        "\n",
        "# YOUR CODE HERE\n",
        "raise NotImplementedError()\n",
        "\n",
        "\n",
        "\n",
        "plt.show()"
      ]
    },
    {
      "cell_type": "markdown",
      "metadata": {
        "id": "y_QYnSlxqR7X"
      },
      "source": [
        "### Question 3:\n",
        "\n",
        "3. Let's dig into the box plot. What can you tell us about the range and distribution? Share your insights and let's decode the boxes!"
      ]
    },
    {
      "cell_type": "markdown",
      "metadata": {
        "id": "2MY8BUQnqR7X"
      },
      "source": [
        "YOUR ANSWER HERE"
      ]
    },
    {
      "cell_type": "markdown",
      "metadata": {
        "id": "ygYSV__dqR7X"
      },
      "source": [
        "### Step 5: What Does the Distribution Tell Us About Shipment Costs?\n",
        "\n",
        "To explore the distribution of shipment prices, follow these steps:\n",
        "\n",
        "1. Extract the 'frieght_value' column from your dataset.\n",
        "2. Use the data to create a histogram, visualizing the frequency distribution of shipment prices.\n",
        "3. Customize the histogram with appropriate bins and labels for clarity.\n"
      ]
    },
    {
      "cell_type": "code",
      "execution_count": null,
      "metadata": {
        "id": "_CoGevjHqR7X"
      },
      "outputs": [],
      "source": [
        "# Import the necessary packages\n",
        "import matplotlib.pyplot as plt\n",
        "# import seaborn as sns         # optionally you can use seaborn style\n",
        "\n",
        "plt.figure(figsize=(12, 6))\n",
        "\n",
        "\n",
        "\n",
        "# YOUR CODE HERE\n",
        "raise NotImplementedError()\n",
        "\n",
        "\n",
        "\n",
        "plt.show()"
      ]
    },
    {
      "cell_type": "markdown",
      "metadata": {
        "id": "GtXT9VwGqR7X"
      },
      "source": [
        "### Question 4:\n",
        "\n",
        "4. Take a closer look at the histogram! What insights can you gather about how shipment prices are spread out? Dive into the details and share your findings\n",
        "\n",
        "*Hint : (trye to recap lecture materials about historgram and different data distribution!)*"
      ]
    },
    {
      "cell_type": "markdown",
      "metadata": {
        "id": "mbvzRQHMqR7X"
      },
      "source": [
        "YOUR ANSWER HERE"
      ]
    },
    {
      "cell_type": "markdown",
      "metadata": {
        "id": "1--fXEzTqR7X"
      },
      "source": [
        "## Part 4 (Map Visualization)"
      ]
    },
    {
      "cell_type": "markdown",
      "metadata": {
        "id": "xCD-XEGUqR7X"
      },
      "source": [
        "### Step 1: Where are customers?\n",
        "\n",
        "To visualize the geographical distribution of customers, follow these steps:\n",
        "\n",
        "(try to show first 10,000 customers on map as showing all customer locaitons make the map too heavy)\n",
        "\n",
        "1. Iterate through the DataFrame, (it is better to just work with first 10,000 customers as showing all customers on map makes the map too heavy and your computer may crash!)\n",
        "2. Use the 'customer_latitude' and 'customer_longitude' columns to extract the location information for each customer.\n",
        "3. Use Folium map library to add a `CircleMarker` for each customer on the map.\n",
        "4. Customize the appearance of the markers to enhance visibility and aesthetics.\n",
        "5. Display the interactive map, showcasing the locations of the first 10,000 customers.\n"
      ]
    },
    {
      "cell_type": "code",
      "execution_count": null,
      "metadata": {
        "id": "7XdUHW69qR7X"
      },
      "outputs": [],
      "source": [
        "# Import the Folium library for interactive map visualization\n",
        "import folium\n",
        "\n",
        "# Create a Figure object to control the size of the map (width=800 pixels, height=500 pixels)\n",
        "f = folium.Figure(width=800, height=500)\n",
        "\n",
        "# Create a Folium Map object centered at the specified location in Brazil with an initial zoom level of 4\n",
        "m = folium.Map(location=[-15.788497,-47.879873], zoom_start=4).add_to(f)\n",
        "\n",
        "\n",
        "\n",
        "\n",
        "# YOUR CODE HERE\n",
        "raise NotImplementedError()\n",
        "\n",
        "\n",
        "\n",
        "\n",
        "f # display the map"
      ]
    },
    {
      "cell_type": "markdown",
      "metadata": {
        "id": "cSHmiZSkqR7Y"
      },
      "source": [
        "### Step 2: Who Pays More for Transportation?\n",
        "\n",
        "Let's uncover the geographical variations in transportation costs with a map. Follow these steps:\n",
        "\n",
        "1. Group the data by 'customer_latitude' and 'customer_longitude'.\n",
        "2. Calculate the average 'freight_value' for each group to determine the transportation fee in different location group.\n",
        "3. Use `Folium` to plot each location on the map, using a `branca.colormap` library to represent the average transportation fee with colormap.\n"
      ]
    },
    {
      "cell_type": "code",
      "execution_count": null,
      "metadata": {
        "id": "iRUQdnRjqR7Y"
      },
      "outputs": [],
      "source": [
        "# Import the Folium library for interactive map visualization\n",
        "import folium\n",
        "\n",
        "# Create a Figure object to control the size of the map (width=800 pixels, height=500 pixels)\n",
        "f = folium.Figure(width=800, height=500)\n",
        "\n",
        "# Create a Folium Map object centered at the specified location in Brazil with an initial zoom level of 4\n",
        "m = folium.Map(location=[-15.788497,-47.879873], zoom_start=4).add_to(f)\n",
        "\n",
        "\n",
        "\n",
        "# YOUR CODE HERE\n",
        "raise NotImplementedError()\n",
        "\n",
        "\n",
        "\n",
        "\n",
        "f # display the map"
      ]
    },
    {
      "cell_type": "markdown",
      "metadata": {
        "id": "2vpKPoNNqR7Y"
      },
      "source": [
        "### Step 3: Who Waits More to Recieve the Order?\n",
        "\n",
        "Now we want to discover how are the delivery times across the country. To show delivery time base on customer locations you can follow these steps:\n",
        "\n",
        "1. Group the data by 'customer_latitude' and 'customer_longitude'.\n",
        "2. Calculate the average \"delivery_time_days\" (you created this column in Part 3, Step 4) for each group to determine the average delivery time in different location group.\n",
        "3. Use `Folium` to plot each location on the map, using a `branca.colormap` library to represent the average transportation fee with colormap."
      ]
    },
    {
      "cell_type": "code",
      "execution_count": null,
      "metadata": {
        "id": "oK7-tRMoqR7Y"
      },
      "outputs": [],
      "source": [
        "# Import the Folium library for interactive map visualization\n",
        "import folium\n",
        "# Import the branca library for colormap manipulation\n",
        "import branca.colormap as cm\n",
        "\n",
        "# Create a Figure object to control the size of the map (width=800 pixels, height=500 pixels)\n",
        "f = folium.Figure(width=800, height=500)\n",
        "\n",
        "# Create a Folium Map object centered at the specified location in Brazil with an initial zoom level of 4\n",
        "m = folium.Map(location=[-15.788497,-47.879873], zoom_start=4).add_to(f)\n",
        "\n",
        "\n",
        "\n",
        "\n",
        "# YOUR CODE HERE\n",
        "raise NotImplementedError()\n",
        "\n",
        "\n",
        "\n",
        "\n",
        "\n",
        "f # display the map"
      ]
    },
    {
      "cell_type": "markdown",
      "metadata": {
        "id": "xVV58M6jqR7Y"
      },
      "source": [
        "### Question 5:\n",
        "\n",
        "Imagine you are the team leader of data analytics department for this online retail company! The CEO declared that the company wants to improve its delivery performance by establishing 2 more inventory hubs (warehouse) as a pre-storage strategy to boost delivery speed and reduce delivery cost for customers.\n",
        "Based on the map visualization from previous steps, which areas would you suggest for placement of new inventory hubs for this company? Don't forget to explain why you suggest those areas!\n",
        "\n",
        "*(Note: You take screen shot from the map and try to indicate 2 areas as candidate areas on the picture and put the picture in your answer.)*"
      ]
    },
    {
      "cell_type": "markdown",
      "metadata": {
        "id": "DmHKkuPjqR7Y"
      },
      "source": [
        "YOUR ANSWER HERE"
      ]
    }
  ],
  "metadata": {
    "kernelspec": {
      "display_name": "Python 3",
      "language": "python",
      "name": "python3"
    },
    "language_info": {
      "codemirror_mode": {
        "name": "ipython",
        "version": 3
      },
      "file_extension": ".py",
      "mimetype": "text/x-python",
      "name": "python",
      "nbconvert_exporter": "python",
      "pygments_lexer": "ipython3",
      "version": "3.12.0"
    },
    "colab": {
      "provenance": [],
      "include_colab_link": true
    }
  },
  "nbformat": 4,
  "nbformat_minor": 0
}